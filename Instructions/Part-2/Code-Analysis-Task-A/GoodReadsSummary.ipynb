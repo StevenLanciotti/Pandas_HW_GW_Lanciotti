{
 "cells": [
  {
   "cell_type": "markdown",
   "metadata": {},
   "source": [
    "# Good Reads Summary\n",
    "\n",
    "#### The objective of this assignment is for you to explain what is happening in each cell in clear, understandable language. \n",
    "\n",
    "#### _There is no need to code._ The code is there for you, and it already runs. Your task is only to explain what each line in each cell does.\n",
    "\n",
    "#### The placeholder cells should describe what happens in the cell below it."
   ]
  },
  {
   "cell_type": "markdown",
   "metadata": {},
   "source": [
    "**Example**: The cell below imports `pandas` as a dependency because `pandas` functions will be used throughout the program, such as the Pandas `DataFrame` as well as the `read_csv` function."
   ]
  },
  {
   "cell_type": "code",
   "execution_count": null,
   "metadata": {},
   "outputs": [],
   "source": [
    "import pandas as pd"
   ]
  },
  {
   "cell_type": "markdown",
   "metadata": {},
   "source": [
    "The cell below does three different things. The first is that it identifies the file path and asigns it a name that we will refer to in the following line. We then read in the file path as a csv file and create a new dataframe from it. Finally with the new dataframe name plus .head() we show the first five rows"
   ]
  },
  {
   "cell_type": "code",
   "execution_count": null,
   "metadata": {},
   "outputs": [],
   "source": [
    "goodreads_path = \"Resources/books_clean.csv\"\n",
    "\n",
    "goodreads_df = pd.read_csv(goodreads_path, encoding=\"utf-8\")\n",
    "goodreads_df.head()"
   ]
  },
  {
   "cell_type": "markdown",
   "metadata": {},
   "source": [
    "The first line does two things. It first looks at the \"goodreads_df\" dataframe that we created and focuses on the column \"Authors\". With that column in focus, the .unique() tells it to to find all of the unique authors within the column. Once it finds all the unique authors, the len() takes the length of the list of unique authors. The purpose of this is to tell us home many unique authors there are.\n",
    "\n",
    "The next two lines look into the dataframe again and focuses on the \"Publication Year\" column. It then uses the .min() and .max() to find the earliest (.min()) Publication Year and most recent (.max()) Publication Year.\n",
    "\n",
    "The next line adds a new column to the data frame called \"Total Reviews\". We then use the .iloc() to calculate the total number of reviews. We ask the .iloc() function to start at the end of the columns and then count back four coulmns to focus on the columns that have reviews. With the .sum() we add up all the reviews for the row... this is specified by setting the axis to 1, which tells it to look across the rows. All of this is added to the new column we created."
   ]
  },
  {
   "cell_type": "code",
   "execution_count": null,
   "metadata": {},
   "outputs": [],
   "source": [
    "author_count = len(goodreads_df[\"Authors\"].unique())\n",
    "\n",
    "earliest_year = goodreads_df[\"Publication Year\"].min()\n",
    "latest_year = goodreads_df[\"Publication Year\"].max()\n",
    "\n",
    "goodreads_df['Total Reviews'] = goodreads_df.iloc[:, 4:].sum(axis=1)\n",
    "total_reviews = sum(goodreads_df['Total Reviews'])"
   ]
  },
  {
   "cell_type": "markdown",
   "metadata": {},
   "source": [
    "The first line below creates a new dataframe, which we call summary_table. We create this new dataframe by using a dictionary of values. Each string within the quotation marks represent a new column name and the input after the colon represent what data we would like to be added into each row. These \"inputs\" are refering to variables that we created in the code prior. Once the data frame is created, we then ask it to show the new dataframe."
   ]
  },
  {
   "cell_type": "code",
   "execution_count": null,
   "metadata": {},
   "outputs": [],
   "source": [
    "summary_table = pd.DataFrame({\"Total Unique Authors\": [author_count],\n",
    "                              \"Earliest Year\": earliest_year,\n",
    "                              \"Latest Year\": latest_year,\n",
    "                              \"Total Reviews\": total_reviews})\n",
    "summary_table"
   ]
  }
 ],
 "metadata": {
  "kernelspec": {
   "display_name": "Python 3",
   "language": "python",
   "name": "python3"
  },
  "language_info": {
   "codemirror_mode": {
    "name": "ipython",
    "version": 3
   },
   "file_extension": ".py",
   "mimetype": "text/x-python",
   "name": "python",
   "nbconvert_exporter": "python",
   "pygments_lexer": "ipython3",
   "version": "3.7.3"
  }
 },
 "nbformat": 4,
 "nbformat_minor": 2
}
